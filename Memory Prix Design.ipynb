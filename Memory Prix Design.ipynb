{
 "cells": [
  {
   "cell_type": "markdown",
   "metadata": {},
   "source": [
    "# Memory Prix\n",
    "\n",
    "Multiple players roll (or spin) to advance their cars on the track.  If they hit an obstacle (oil slick?), they must do a memory check for the given number of cars.  They must move back one square for every check they get wrong.\n",
    "\n",
    "First to cross the finish line is the winner.\n",
    "\n",
    "## Design parameters\n",
    "\n",
    "We want to balance the game to ensure that \n",
    "    \n",
    "    1. All players have a chance to win\n",
    "    2. Players that do better on the memory check have an advantage over multiple games\n",
    "    3. Games take about 10 minutes for 2 players\n",
    "    \n",
    "Let's assume that move size is generated from a 1d6, and that each action (move or memory check) takes 15 seconds.  Also, let's assume that each player has a fixed chance of passing a memory check.  We then have the following free parameters\n",
    "\n",
    "    1. Number of squares\n",
    "    2. Number of obstacles\n",
    "    3. Number of memory checks in each obstacle\n",
    "    \n",
    "Note that we probably want to bound the number of checks per obstacle so that individual turns are not overly long.  Three seems like a reasonable upper bound (then move + 3 memory checks is a max of 1 minute/turn), but that needs to be tested.\n",
    "\n",
    "## Direct simulation\n",
    "\n",
    "As a sanity check, we begin with a direct simulation of game play."
   ]
  }
 ],
 "metadata": {
  "kernelspec": {
   "display_name": "Python 3",
   "language": "python",
   "name": "python3"
  },
  "language_info": {
   "codemirror_mode": {
    "name": "ipython",
    "version": 3
   },
   "file_extension": ".py",
   "mimetype": "text/x-python",
   "name": "python",
   "nbconvert_exporter": "python",
   "pygments_lexer": "ipython3",
   "version": "3.6.7"
  }
 },
 "nbformat": 4,
 "nbformat_minor": 2
}
